{
 "cells": [
  {
   "cell_type": "markdown",
   "id": "cc93932b-0833-40df-91d0-6fae33287aa1",
   "metadata": {},
   "source": [
    "Q1. Write a program to accept five integers from the user , store them in a list . Display these integers and also display their sum."
   ]
  },
  {
   "cell_type": "code",
   "execution_count": 3,
   "id": "a8bfd0e5-3879-45ec-b473-d018940a45a9",
   "metadata": {},
   "outputs": [
    {
     "name": "stdin",
     "output_type": "stream",
     "text": [
      "Enter an Integer number 1\n",
      "Enter an Integer number 2\n",
      "Enter an Integer number 3\n",
      "Enter an Integer number 4\n",
      "Enter an Integer number 5\n"
     ]
    },
    {
     "name": "stdout",
     "output_type": "stream",
     "text": [
      "List of Numbers -  [1, 2, 3, 4, 5]\n",
      "Sum of numbers -  15\n"
     ]
    }
   ],
   "source": [
    "i = 1\n",
    "mList = []\n",
    "while i < 6:\n",
    "    myNum = int(input(\"Enter an Integer number\"))\n",
    "    if type(myNum) == int:\n",
    "        mList.append(myNum)\n",
    "        i = i + 1\n",
    "    else:\n",
    "        continue\n",
    "\n",
    "print(\"List of Numbers - \",  mList)\n",
    "print(\"Sum of numbers - \", sum(mList))"
   ]
  },
  {
   "cell_type": "markdown",
   "id": "0016ae30-0e1f-47a2-a96d-9e64502d6a02",
   "metadata": {},
   "source": [
    "Q2. Write a program to accept 5 unique integers from the user. Make sure if the integer being entered is already present in the list your code displays the message “Item already present” and ask the user to reenter the integer."
   ]
  },
  {
   "cell_type": "code",
   "execution_count": 5,
   "id": "62ac5add-a2c5-4e18-bbb5-93d4937190c7",
   "metadata": {},
   "outputs": [
    {
     "name": "stdin",
     "output_type": "stream",
     "text": [
      "Enter an Integer number 12\n",
      "Enter an Integer number 12\n"
     ]
    },
    {
     "name": "stdout",
     "output_type": "stream",
     "text": [
      "Number already present. Please Re-Enter a different Integer number.\n"
     ]
    },
    {
     "name": "stdin",
     "output_type": "stream",
     "text": [
      "Enter an Integer number 23\n",
      "Enter an Integer number 123\n",
      "Enter an Integer number 43\n",
      "Enter an Integer number 543\n"
     ]
    },
    {
     "name": "stdout",
     "output_type": "stream",
     "text": [
      "List of Numbers -  [12, 23, 123, 43, 543]\n"
     ]
    }
   ],
   "source": [
    "i = 1\n",
    "mList = []\n",
    "while i < 6:\n",
    "    myNum = int(input(\"Enter an Integer number\"))\n",
    "    if type(myNum) == int:\n",
    "        if i == 1:\n",
    "            mList.append(myNum)\n",
    "            i = i + 1\n",
    "        elif myNum in mList:\n",
    "            print(\"Number already present. Please Re-Enter a different Integer number.\")\n",
    "        else:\n",
    "            mList.append(myNum)\n",
    "            i = i + 1\n",
    "    else:\n",
    "        continue\n",
    "\n",
    "print(\"List of Numbers - \",  mList)"
   ]
  },
  {
   "cell_type": "markdown",
   "id": "d6269d31-3207-40cf-8d05-85e4d9f1a934",
   "metadata": {},
   "source": [
    "Q3. Write a program to accept 2 lists from the user of 5 nos each . Assume each list will have unique nos Now find out how many items in these lists are common ."
   ]
  },
  {
   "cell_type": "code",
   "execution_count": 10,
   "id": "eb7720d1-ed49-4a2d-84a8-35dcb77d1038",
   "metadata": {},
   "outputs": [
    {
     "name": "stdin",
     "output_type": "stream",
     "text": [
      "Enter an Integer number 1\n",
      "Enter an Integer number 2\n",
      "Enter an Integer number 3\n",
      "Enter an Integer number 4\n",
      "Enter an Integer number 5\n",
      "Enter an Integer number 1\n",
      "Enter an Integer number 3\n",
      "Enter an Integer number 5\n",
      "Enter an Integer number 7\n",
      "Enter an Integer number 9\n"
     ]
    },
    {
     "name": "stdout",
     "output_type": "stream",
     "text": [
      "3\n"
     ]
    }
   ],
   "source": [
    "i = 1\n",
    "mList1 = []\n",
    "while i < 6:\n",
    "    myNum = int(input(\"Enter an Integer number\"))\n",
    "    if type(myNum) == int:\n",
    "        if i == 1:\n",
    "            mList1.append(myNum)\n",
    "            i = i + 1\n",
    "        elif myNum in mList1:\n",
    "            print(\"Number already present. Please Re-Enter a different Integer number.\")\n",
    "        else:\n",
    "            mList1.append(myNum)\n",
    "            i = i + 1\n",
    "    else:\n",
    "        continue\n",
    "        \n",
    "j = 1\n",
    "mList2 = []\n",
    "while j < 6:\n",
    "    myNum = int(input(\"Enter an Integer number\"))\n",
    "    if type(myNum) == int:\n",
    "        if j == 1:\n",
    "            mList2.append(myNum)\n",
    "            j = j + 1\n",
    "        elif myNum in mList2:\n",
    "            print(\"Number already present. Please Re-Enter a different Integer number.\")\n",
    "        else:\n",
    "            mList2.append(myNum)\n",
    "            j = j + 1\n",
    "    else:\n",
    "        continue\n",
    "        \n",
    "commonNum = 0\n",
    "\n",
    "for mNum in mList1:\n",
    "    if mNum in mList2:\n",
    "        commonNum = commonNum + 1\n",
    "        \n",
    "if commonNum != 0:\n",
    "    print(commonNum)\n",
    "else:\n",
    "    print(\"No common numbers found\")"
   ]
  },
  {
   "cell_type": "markdown",
   "id": "0a5aac64-6e99-4afc-962e-03d5f8d14cd3",
   "metadata": {},
   "source": [
    "Q4. Rewrite the previous code so that your code alos displays the items which are common in both the lists"
   ]
  },
  {
   "cell_type": "code",
   "execution_count": 11,
   "id": "86750cd3-0da7-4292-b62d-8bdf1a3e961c",
   "metadata": {},
   "outputs": [
    {
     "name": "stdin",
     "output_type": "stream",
     "text": [
      "Enter an Integer number 1\n",
      "Enter an Integer number 2\n",
      "Enter an Integer number 3\n",
      "Enter an Integer number 4\n",
      "Enter an Integer number 5\n",
      "Enter an Integer number 1\n",
      "Enter an Integer number 3\n",
      "Enter an Integer number 5\n",
      "Enter an Integer number 7\n",
      "Enter an Integer number 9\n"
     ]
    },
    {
     "name": "stdout",
     "output_type": "stream",
     "text": [
      "[1, 3, 5]\n"
     ]
    }
   ],
   "source": [
    "i = 1\n",
    "mList1 = []\n",
    "while i < 6:\n",
    "    myNum = int(input(\"Enter an Integer number\"))\n",
    "    if type(myNum) == int:\n",
    "        if i == 1:\n",
    "            mList1.append(myNum)\n",
    "            i = i + 1\n",
    "        elif myNum in mList1:\n",
    "            print(\"Number already present. Please Re-Enter a different Integer number.\")\n",
    "        else:\n",
    "            mList1.append(myNum)\n",
    "            i = i + 1\n",
    "    else:\n",
    "        continue\n",
    "        \n",
    "j = 1\n",
    "mList2 = []\n",
    "while j < 6:\n",
    "    myNum = int(input(\"Enter an Integer number\"))\n",
    "    if type(myNum) == int:\n",
    "        if j == 1:\n",
    "            mList2.append(myNum)\n",
    "            j = j + 1\n",
    "        elif myNum in mList2:\n",
    "            print(\"Number already present. Please Re-Enter a different Integer number.\")\n",
    "        else:\n",
    "            mList2.append(myNum)\n",
    "            j = j + 1\n",
    "    else:\n",
    "        continue\n",
    "        \n",
    "commonList = []\n",
    "\n",
    "for mNum in mList1:\n",
    "    if mNum in mList2:\n",
    "        commonList.append(mNum)\n",
    "        \n",
    "if len(commonList) > 0:\n",
    "    print(commonList)\n",
    "else:\n",
    "    print(\"No common numbers found\")"
   ]
  }
 ],
 "metadata": {
  "kernelspec": {
   "display_name": "Python 3 (ipykernel)",
   "language": "python",
   "name": "python3"
  },
  "language_info": {
   "codemirror_mode": {
    "name": "ipython",
    "version": 3
   },
   "file_extension": ".py",
   "mimetype": "text/x-python",
   "name": "python",
   "nbconvert_exporter": "python",
   "pygments_lexer": "ipython3",
   "version": "3.10.6"
  }
 },
 "nbformat": 4,
 "nbformat_minor": 5
}
